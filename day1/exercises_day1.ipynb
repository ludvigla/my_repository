{
 "cells": [
  {
   "cell_type": "markdown",
   "metadata": {},
   "source": [
    "# Exercises for Day 1\n",
    "An introduction to the UNIX shell, interactive Python and git repositories\n",
    "\n",
    "1. Basic shell commands\n",
    "Get familiar with UNIX shell and some basic bash commands. Have a look at the slides from this morning and identify commands that are new to you. Test them out! Check out the command's man page (usually man COMMAND). Here are a few tasks/commands you should definitely give a try:\n",
    "\n",
    "a. Create a new local directory (e.g. `python-course`)\n",
    "using the commands cd and mkdir"
   ]
  },
  {
   "cell_type": "markdown",
   "metadata": {},
   "source": [
    "b. Create a new file inside this new local directory (e.g. hello_world.py)\n",
    "using the command touch or editors like emacs, vim, nano or whatever you prefer"
   ]
  },
  {
   "cell_type": "code",
   "execution_count": 8,
   "metadata": {},
   "outputs": [],
   "source": [
    "%%bash\n",
    "echo 'print(\"Hello world\")' > hello_world.py"
   ]
  },
  {
   "cell_type": "markdown",
   "metadata": {},
   "source": [
    "c. Rename your file to something unique (e.g. hello_world_benedikt.py)\n",
    "using the command mv"
   ]
  },
  {
   "cell_type": "code",
   "execution_count": 13,
   "metadata": {},
   "outputs": [],
   "source": [
    "%%bash\n",
    "mv hello_world.py hello_world_Ludvig.py"
   ]
  },
  {
   "cell_type": "markdown",
   "metadata": {},
   "source": [
    "d. Make your simple python file print a statement (e.g. \"Hello world\")\n",
    "using your favourite editor"
   ]
  },
  {
   "cell_type": "markdown",
   "metadata": {},
   "source": [
    "e. Execute your python script."
   ]
  },
  {
   "cell_type": "code",
   "execution_count": 14,
   "metadata": {},
   "outputs": [
    {
     "name": "stdout",
     "output_type": "stream",
     "text": [
      "Hello world\n"
     ]
    }
   ],
   "source": [
    "%%bash\n",
    "python hello_world_Ludvig.py"
   ]
  },
  {
   "cell_type": "markdown",
   "metadata": {},
   "source": [
    "f. Add the so called shebang to the first line of the python script: #!/usr/bin/env python."
   ]
  },
  {
   "cell_type": "code",
   "execution_count": 16,
   "metadata": {},
   "outputs": [],
   "source": [
    "%%bash\n",
    "echo '#!/usr/bin/env python' > hello_world_Ludvig.py\n",
    "echo 'print(\"Hello world\")' >> hello_world_Ludvig.py"
   ]
  },
  {
   "cell_type": "markdown",
   "metadata": {},
   "source": [
    "g. Make your script executable (x permission)\n",
    "using the command `chmod`. You should now be able to execute your script like this: `./hello_world_benedikt.py`\n",
    "\n",
    "In many real-life scenarios, you might be using a remote computing cluster. So lets get familiar with some important commands related to remote systems. We created an account for you on our davinci cluster (davinci.icm.uu.se). The username is python, the password will be provided by the teachers. Now, some other useful commands for you to try"
   ]
  },
  {
   "cell_type": "code",
   "execution_count": 20,
   "metadata": {},
   "outputs": [
    {
     "name": "stdout",
     "output_type": "stream",
     "text": [
      "Hello world\n"
     ]
    }
   ],
   "source": [
    "%%bash\n",
    "chmod +x hello_world_Ludvig.py\n",
    "./hello_world_Ludvig.py"
   ]
  },
  {
   "cell_type": "markdown",
   "metadata": {},
   "source": [
    "The remaining steps were done from the terminal."
   ]
  }
 ],
 "metadata": {
  "kernelspec": {
   "display_name": "Python 3",
   "language": "python",
   "name": "python3"
  },
  "language_info": {
   "codemirror_mode": {
    "name": "ipython",
    "version": 3
   },
   "file_extension": ".py",
   "mimetype": "text/x-python",
   "name": "python",
   "nbconvert_exporter": "python",
   "pygments_lexer": "ipython3",
   "version": "3.8.3"
  },
  "toc": {
   "nav_menu": {},
   "number_sections": true,
   "sideBar": true,
   "skip_h1_title": true,
   "toc_cell": false,
   "toc_position": {},
   "toc_section_display": "block",
   "toc_window_display": false
  }
 },
 "nbformat": 4,
 "nbformat_minor": 4
}
