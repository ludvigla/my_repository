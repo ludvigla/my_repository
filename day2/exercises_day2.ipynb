{
 "cells": [
  {
   "cell_type": "markdown",
   "metadata": {},
   "source": [
    "# Exercises for Day 2\n",
    "***\n",
    "Organising, debugging and profiling Python code\n",
    "\n",
    "## 1. Creating a Python package\n",
    "\n",
    "NOTE: The animals packages was created from the terminal (see animals package in `day2` dir).\n",
    "\n",
    "## 2. Debugging\n",
    "\n",
    "NOTE: The dicegame was debugged outside of this notebook and the error fixed version of the dicegame can be found in `day2/buggy`."
   ]
  },
  {
   "cell_type": "markdown",
   "metadata": {},
   "source": [
    "# Day 2\n",
    "\n",
    "## Exercise 3.a\n",
    "\n",
    "To run line profiler on our code, we can define the script as a function and then run %lprun to see how much time is spent execting each line."
   ]
  },
  {
   "cell_type": "code",
   "execution_count": 1,
   "metadata": {},
   "outputs": [],
   "source": [
    "%load_ext line_profiler\n",
    "%load_ext memory_profiler"
   ]
  },
  {
   "cell_type": "code",
   "execution_count": 2,
   "metadata": {
    "code_folding": [
     0
    ]
   },
   "outputs": [],
   "source": [
    "# Program to multiply two matrices using nested loops\n",
    "import random\n",
    "\n",
    "def matmult():\n",
    "    N = 250\n",
    "\n",
    "    # NxN matrix\n",
    "    X = []\n",
    "    for i in range(N):\n",
    "        X.append([random.randint(0,100) for r in range(N)])\n",
    "\n",
    "    # Nx(N+1) matrix\n",
    "    Y = []\n",
    "    for i in range(N):\n",
    "        Y.append([random.randint(0,100) for r in range(N+1)])\n",
    "\n",
    "    # result is Nx(N+1)\n",
    "    result = []\n",
    "    for i in range(N):\n",
    "        result.append([0] * (N+1))\n",
    "\n",
    "    # iterate through rows of X\n",
    "    for i in range(len(X)):\n",
    "        # iterate through columns of Y\n",
    "        for j in range(len(Y[0])):\n",
    "            # iterate through rows of Y\n",
    "            for k in range(len(Y)):\n",
    "                result[i][j] += X[i][k] * Y[k][j]\n",
    "\n",
    "    #for r in result:\n",
    "    #    print(r)"
   ]
  },
  {
   "cell_type": "markdown",
   "metadata": {},
   "source": [
    "Now let's run `lprun` to check the stats."
   ]
  },
  {
   "cell_type": "code",
   "execution_count": 3,
   "metadata": {},
   "outputs": [
    {
     "name": "stdout",
     "output_type": "stream",
     "text": [
      "\n",
      "*** Profile printout saved to text file 'mprof0'. \n",
      "Timer unit: 1e-06 s\n",
      "\n",
      "Total time: 22.2949 s\n",
      "File: <ipython-input-2-bf771f301bd1>\n",
      "Function: matmult at line 4\n",
      "\n",
      "Line #      Hits         Time  Per Hit   % Time  Line Contents\n",
      "==============================================================\n",
      "     4                                           def matmult():\n",
      "     5         1          4.0      4.0      0.0      N = 250\n",
      "     6                                           \n",
      "     7                                               # NxN matrix\n",
      "     8         1          1.0      1.0      0.0      X = []\n",
      "     9       251        168.0      0.7      0.0      for i in range(N):\n",
      "    10       250     196575.0    786.3      0.9          X.append([random.randint(0,100) for r in range(N)])\n",
      "    11                                           \n",
      "    12                                               # Nx(N+1) matrix\n",
      "    13         1          1.0      1.0      0.0      Y = []\n",
      "    14       251        134.0      0.5      0.0      for i in range(N):\n",
      "    15       250     180856.0    723.4      0.8          Y.append([random.randint(0,100) for r in range(N+1)])\n",
      "    16                                           \n",
      "    17                                               # result is Nx(N+1)\n",
      "    18         1          0.0      0.0      0.0      result = []\n",
      "    19       251        111.0      0.4      0.0      for i in range(N):\n",
      "    20       250        348.0      1.4      0.0          result.append([0] * (N+1))\n",
      "    21                                           \n",
      "    22                                               # iterate through rows of X\n",
      "    23       251        159.0      0.6      0.0      for i in range(len(X)):\n",
      "    24                                                   # iterate through columns of Y\n",
      "    25     63000      31281.0      0.5      0.1          for j in range(len(Y[0])):\n",
      "    26                                                       # iterate through rows of Y\n",
      "    27  15750250    7908339.0      0.5     35.5              for k in range(len(Y)):\n",
      "    28  15687500   13976912.0      0.9     62.7                  result[i][j] += X[i][k] * Y[k][j]\n"
     ]
    }
   ],
   "source": [
    "%lprun -T mprof0 -f matmult matmult()\n",
    "print(open('mprof0', 'r').read())"
   ]
  },
  {
   "cell_type": "markdown",
   "metadata": {},
   "source": [
    "In the output table, we can see that most of the time is spent on executing lines 27-28:\n",
    "\n",
    "`Line #      Hits         Time  Per Hit   % Time  Line Contents\n",
    "==============================================================`\n",
    "\n",
    "`15750250    8709942.0      0.6     35.0              for k in range(len(Y)):`\n",
    "\n",
    "`15687500   15686312.0      1.0     63.1                  result[i][j] += X[i][k] * Y[k]`"
   ]
  },
  {
   "cell_type": "markdown",
   "metadata": {},
   "source": [
    "Now let's look at memory usage with memory profiler"
   ]
  },
  {
   "cell_type": "code",
   "execution_count": 5,
   "metadata": {},
   "outputs": [
    {
     "name": "stderr",
     "output_type": "stream",
     "text": [
      "/Users/ludviglarsson/anaconda3/lib/python3.8/multiprocessing/resource_tracker.py:96: UserWarning: resource_tracker: process died unexpectedly, relaunching.  Some resources might leak.\n",
      "  warnings.warn('resource_tracker: process died unexpectedly, '\n"
     ]
    },
    {
     "name": "stdout",
     "output_type": "stream",
     "text": [
      "peak memory: 52.93 MiB, increment: 1.79 MiB\n"
     ]
    }
   ],
   "source": [
    "%memit matmult()"
   ]
  },
  {
   "cell_type": "markdown",
   "metadata": {},
   "source": [
    "We can also go line-by-line using `%mprun`, but this actually took so long time to run so I've skipped it. Maybe this has to do with the nested for loops? :-/"
   ]
  },
  {
   "cell_type": "markdown",
   "metadata": {},
   "source": [
    "### Answer to exercise 3.a\n",
    "\n",
    "The lines of code using the most time were 27-28, the innermost for loop. As for memory, the `result` variable is initiated before the nested for loop, so the for loop in itself should not be using that mush memory. The majority of memory is created when the function is initiated.\n",
    "***"
   ]
  },
  {
   "cell_type": "markdown",
   "metadata": {},
   "source": [
    "### Exercise 3.b"
   ]
  },
  {
   "cell_type": "code",
   "execution_count": 6,
   "metadata": {},
   "outputs": [
    {
     "name": "stdout",
     "output_type": "stream",
     "text": [
      "30397485.0\n",
      "\n",
      "*** Profile printout saved to text file 'mprof0'. \n",
      "Timer unit: 1e-06 s\n",
      "\n",
      "Total time: 0.114791 s\n",
      "File: /Users/ludviglarsson/courses/uu-python-course/exercises/uu-exercise-Ludvig/day2/euler72.py\n",
      "Function: run_euler at line 61\n",
      "\n",
      "Line #      Hits         Time  Per Hit   % Time  Line Contents\n",
      "==============================================================\n",
      "    61                                           def run_euler():\n",
      "    62         1       5468.0   5468.0      4.8      primes = gen_primes(1000)\n",
      "    63         1          1.0      1.0      0.0      m = 10000\n",
      "    64                                               #m = 8\n",
      "    65         1          0.0      0.0      0.0      fraq = 0\n",
      "    66     10000       3615.0      0.4      3.1      for i in range(2,m+1):\n",
      "    67      9999     105525.0     10.6     91.9          fraq += fast_phi(i,primes)\n",
      "    68                                           \n",
      "    69         1        182.0    182.0      0.2      print(fraq)\n",
      "30397485.0\n",
      "\n",
      "\n",
      "*** Profile printout saved to text file mprof0. \n",
      "Filename: /Users/ludviglarsson/courses/uu-python-course/exercises/uu-exercise-Ludvig/day2/euler72.py\n",
      "\n",
      "Line #    Mem usage    Increment  Occurences   Line Contents\n",
      "============================================================\n",
      "    61     53.0 MiB     53.0 MiB           1   def run_euler():\n",
      "    62     53.0 MiB      0.0 MiB           1       primes = gen_primes(1000)\n",
      "    63     53.0 MiB      0.0 MiB           1       m = 10000\n",
      "    64                                             #m = 8\n",
      "    65     53.0 MiB      0.0 MiB           1       fraq = 0\n",
      "    66     53.0 MiB      0.0 MiB       10000       for i in range(2,m+1):\n",
      "    67     53.0 MiB      0.0 MiB        9999           fraq += fast_phi(i,primes)\n",
      "    68                                         \n",
      "    69     53.0 MiB      0.0 MiB           1       print(fraq)\n"
     ]
    }
   ],
   "source": [
    "from euler72 import gen_primes, factorize, phi, fast_phi, run_euler\n",
    "\n",
    "%lprun -T mprof0 -f run_euler run_euler()\n",
    "print(open('mprof0', 'r').read())\n",
    "%mprun -T mprof0 -f run_euler run_euler()\n",
    "print(open('mprof0', 'r').read())"
   ]
  },
  {
   "cell_type": "markdown",
   "metadata": {},
   "source": [
    "Looking at the profiler output, the script spends most time computing phi. We can run the profiler on fast_phi to check what part of the function takes the most time to compute.\n",
    "\n",
    "If we look at the memory usage, it seems to be negligable. At least for the purpose of this test."
   ]
  },
  {
   "cell_type": "code",
   "execution_count": 7,
   "metadata": {},
   "outputs": [
    {
     "name": "stdout",
     "output_type": "stream",
     "text": [
      "\n",
      "*** Profile printout saved to text file 'mprof0'. \n",
      "Timer unit: 1e-06 s\n",
      "\n",
      "Total time: 2.6e-05 s\n",
      "File: /Users/ludviglarsson/courses/uu-python-course/exercises/uu-exercise-Ludvig/day2/euler72.py\n",
      "Function: fast_phi at line 51\n",
      "\n",
      "Line #      Hits         Time  Per Hit   % Time  Line Contents\n",
      "==============================================================\n",
      "    51                                           def fast_phi(n,primes):\n",
      "    52         1         14.0     14.0     53.8      factors = factorize(n,primes)\n",
      "    53         1          1.0      1.0      3.8      phi = factors[0]-1\n",
      "    54         4          3.0      0.8     11.5      for i in range(1,len(factors)):\n",
      "    55         3          3.0      1.0     11.5          if(factors[i] == factors[i-1]):\n",
      "    56         2          3.0      1.5     11.5              phi *= (factors[i]-1)*(factors[i])/(factors[i]-1)\n",
      "    57                                                   else:\n",
      "    58         1          1.0      1.0      3.8              phi *= (factors[i]-1)\n",
      "    59         1          1.0      1.0      3.8      return phi\n",
      "\n",
      "\n",
      "*** Profile printout saved to text file mprof0. \n",
      "Filename: /Users/ludviglarsson/courses/uu-python-course/exercises/uu-exercise-Ludvig/day2/euler72.py\n",
      "\n",
      "Line #    Mem usage    Increment  Occurences   Line Contents\n",
      "============================================================\n",
      "    51     53.0 MiB     53.0 MiB           1   def fast_phi(n,primes):\n",
      "    52     53.0 MiB      0.0 MiB           1       factors = factorize(n,primes)\n",
      "    53     53.0 MiB      0.0 MiB           1       phi = factors[0]-1\n",
      "    54     53.0 MiB      0.0 MiB           4       for i in range(1,len(factors)):\n",
      "    55     53.0 MiB      0.0 MiB           3           if(factors[i] == factors[i-1]):\n",
      "    56     53.0 MiB      0.0 MiB           2               phi *= (factors[i]-1)*(factors[i])/(factors[i]-1)\n",
      "    57                                                 else:\n",
      "    58     53.0 MiB      0.0 MiB           1               phi *= (factors[i]-1)\n",
      "    59     53.0 MiB      0.0 MiB           1       return phi\n"
     ]
    }
   ],
   "source": [
    "primes = gen_primes(1000)\n",
    "%lprun -T mprof0 -f fast_phi fast_phi(100,primes)\n",
    "print(open('mprof0', 'r').read())\n",
    "%mprun -T mprof0 -f fast_phi fast_phi(100,primes)\n",
    "print(open('mprof0', 'r').read())"
   ]
  },
  {
   "cell_type": "markdown",
   "metadata": {},
   "source": [
    "Now we can see that the factorize function takes a long pretty time to compute. Let's have a look at that one too."
   ]
  },
  {
   "cell_type": "code",
   "execution_count": 8,
   "metadata": {
    "scrolled": true
   },
   "outputs": [
    {
     "name": "stdout",
     "output_type": "stream",
     "text": [
      "\n",
      "*** Profile printout saved to text file 'mprof0'. \n",
      "Timer unit: 1e-06 s\n",
      "\n",
      "Total time: 1.9e-05 s\n",
      "File: /Users/ludviglarsson/courses/uu-python-course/exercises/uu-exercise-Ludvig/day2/euler72.py\n",
      "Function: factorize at line 22\n",
      "\n",
      "Line #      Hits         Time  Per Hit   % Time  Line Contents\n",
      "==============================================================\n",
      "    22                                           def factorize(n,primes):\n",
      "    23         1          2.0      2.0     10.5      factors = []\n",
      "    24         1          1.0      1.0      5.3      init_n = n\n",
      "    25         3          2.0      0.7     10.5      for p in primes:\n",
      "    26         7          6.0      0.9     31.6          while(n%p == 0):\n",
      "    27         4          3.0      0.8     15.8              n = n/p\n",
      "    28         4          3.0      0.8     15.8              factors.append(p)\n",
      "    29         3          2.0      0.7     10.5          if(p > sqrt(n)):\n",
      "    30         1          0.0      0.0      0.0              break\n",
      "    31         1          0.0      0.0      0.0      if(n > 1):\n",
      "    32                                                   factors.append(n)\n",
      "    33         1          0.0      0.0      0.0      return factors\n",
      "\n",
      "\n",
      "*** Profile printout saved to text file mprof0. \n",
      "Filename: /Users/ludviglarsson/courses/uu-python-course/exercises/uu-exercise-Ludvig/day2/euler72.py\n",
      "\n",
      "Line #    Mem usage    Increment  Occurences   Line Contents\n",
      "============================================================\n",
      "    22     53.0 MiB     53.0 MiB           1   def factorize(n,primes):\n",
      "    23     53.0 MiB      0.0 MiB           1       factors = []\n",
      "    24     53.0 MiB      0.0 MiB           1       init_n = n\n",
      "    25     53.0 MiB      0.0 MiB           3       for p in primes:\n",
      "    26     53.0 MiB      0.0 MiB           7           while(n%p == 0):\n",
      "    27     53.0 MiB      0.0 MiB           4               n = n/p\n",
      "    28     53.0 MiB      0.0 MiB           4               factors.append(p)\n",
      "    29     53.0 MiB      0.0 MiB           3           if(p > sqrt(n)):\n",
      "    30     53.0 MiB      0.0 MiB           1               break\n",
      "    31     53.0 MiB      0.0 MiB           1       if(n > 1):\n",
      "    32                                                 factors.append(n)\n",
      "    33     53.0 MiB      0.0 MiB           1       return factors\n"
     ]
    }
   ],
   "source": [
    "primes = gen_primes(1000)\n",
    "%lprun -T mprof0 -f factorize factorize(100,primes)\n",
    "print(open('mprof0', 'r').read())\n",
    "%mprun -T mprof0 -f factorize factorize(100,primes)\n",
    "print(open('mprof0', 'r').read())"
   ]
  },
  {
   "cell_type": "markdown",
   "metadata": {},
   "source": [
    "Here we see that there are three lines of code that take a pretty long time to compute:\n",
    "\n",
    "`Line #      Hits         Time  Per Hit   % Time  Line Contents\n",
    "==============================================================`\n",
    "\n",
    "`26         7          4.0      0.6     26.7          while(n%p == 0):\n",
    "27         4          3.0      0.8     20.0              n = n/p\n",
    "28         4          3.0      0.8     20.0              factors.append(p)`\n",
    "\n",
    "This is where I'd start optimizing for speed. As for memory optimizations, it's hard to tell from these memory_profiler reports what line creates most memory since they Increment is 0.0 MiB for all lines. \n",
    "\n",
    "If we run memory profiler from the terminal, we can get more precision in the Increment (I could not find a solution for this in jupyter using %mprun). From this report we can see that the following lines in the `gen_primes` function create the most memory:\n",
    "\n",
    "`13   39.230 MiB    0.012 MiB        2800               if(l[j] % d == 0):\n",
    "14   39.230 MiB    0.000 MiB         830                   p = False\n",
    "    15   39.230 MiB    0.012 MiB         830                   break;`\n",
    "    \n"
   ]
  },
  {
   "cell_type": "markdown",
   "metadata": {},
   "source": [
    "### Exercise 3.c\n",
    "\n",
    "Now let's try to optimize the code. Instead of using the default python lists, we can define the matrices as numpy arrays instead. \n",
    "\n",
    "If we use `np.random.randint` we can set the shape of the array directly, so we don't have to make a for loop. (I have added a random seed before initiating the randomized matrices X and Y to be able to compare the results with the matmult function from numpy)\n",
    "\n",
    "In the for loop, we iterate through rows of `X` and columns of `Y`. In the original code, used another for loop to calculate the product of `X[i][k]` and `Y[k][j]`. Instead, we can use vector multiplication to get the product of `X[i]*Y[i]` and sum all elements of the product vector. Is cheating? :-/"
   ]
  },
  {
   "cell_type": "code",
   "execution_count": 15,
   "metadata": {
    "code_folding": [
     0
    ]
   },
   "outputs": [],
   "source": [
    "# Program to multiply two matrices using nested loops\n",
    "import numpy as np\n",
    "\n",
    "def matmult():\n",
    "    N = 250\n",
    "\n",
    "    # NxN matrix\n",
    "    np.random.seed(0)\n",
    "    X = np.random.randint(0,100, size=(N, N))\n",
    "\n",
    "    # Nx(N+1) matrix\n",
    "    np.random.seed(0)\n",
    "    Y = np.random.randint(0,100, size=(N, N + 1))\n",
    "\n",
    "    # Nx(N+1)\n",
    "    result = np.zeros(shape=(N, N+1), dtype=\"int64\")\n",
    "\n",
    "    # iterate through rows of X\n",
    "    for i in range(X.shape[0]):\n",
    "        # iterate through columns of Y\n",
    "        for j in range(Y.shape[1]):\n",
    "            a = X[i, :]*Y[:, j]\n",
    "            result[i, j] = a.sum()\n",
    "            \n",
    "    #for r in result:\n",
    "    #print(r)\n",
    "    \n",
    "    return result"
   ]
  },
  {
   "cell_type": "markdown",
   "metadata": {},
   "source": [
    "Again, let's run line profiler on the code."
   ]
  },
  {
   "cell_type": "code",
   "execution_count": 27,
   "metadata": {
    "scrolled": false
   },
   "outputs": [
    {
     "name": "stdout",
     "output_type": "stream",
     "text": [
      "CPU times: user 312 ms, sys: 3.2 ms, total: 315 ms\n",
      "Wall time: 315 ms\n",
      "\n",
      "*** Profile printout saved to text file 'mprof0'. \n",
      "Timer unit: 1e-06 s\n",
      "\n",
      "Total time: 0.453911 s\n",
      "File: /Users/ludviglarsson/courses/uu-python-course/exercises/uu-exercise-Ludvig/day2/matmult_optimized.py\n",
      "Function: matmult at line 5\n",
      "\n",
      "Line #      Hits         Time  Per Hit   % Time  Line Contents\n",
      "==============================================================\n",
      "     5                                           def matmult():\n",
      "     6         1          1.0      1.0      0.0      N = 250\n",
      "     7                                           \n",
      "     8                                               # NxN matrix\n",
      "     9         1         10.0     10.0      0.0      np.random.seed(0)\n",
      "    10         1        502.0    502.0      0.1      X = np.random.randint(0,100, size=(N, N))\n",
      "    11                                           \n",
      "    12                                               # Nx(N+1) matrix\n",
      "    13         1          5.0      5.0      0.0      np.random.seed(0)\n",
      "    14         1        494.0    494.0      0.1      Y = np.random.randint(0,100, size=(N, N + 1))\n",
      "    15                                           \n",
      "    16                                               # Nx(N+1)\n",
      "    17         1         19.0     19.0      0.0      result = np.zeros(shape=(N, N+1), dtype=\"int64\")\n",
      "    18                                           \n",
      "    19                                               # iterate through rows of X\n",
      "    20       251         88.0      0.4      0.0      for i in range(X.shape[0]):\n",
      "    21                                                   # iterate through columns of Y\n",
      "    22     63000      25423.0      0.4      5.6          for j in range(Y.shape[1]):\n",
      "    23     62750     184584.0      2.9     40.7              a = X[i, :]*Y[:, j]\n",
      "    24     62750     242785.0      3.9     53.5              result[i, j] = a.sum()\n",
      "    25                                                       \n",
      "    26                                               #for r in result:\n",
      "    27                                               #print(r)\n",
      "    28                                               \n",
      "    29         1          0.0      0.0      0.0      return result\n"
     ]
    }
   ],
   "source": [
    "%time matmult()\n",
    "%lprun -T mprof0 -f matmult matmult()\n",
    "print(open('mprof0', 'r').read())"
   ]
  },
  {
   "cell_type": "markdown",
   "metadata": {},
   "source": [
    "Now we can see that our new code made a significant improvement to the computation time.\n",
    "\n",
    "`Line #      Hits         Time  Per Hit   % Time  Line Contents\n",
    "==============================================================`\n",
    "\n",
    "`    22     62750     193281.0      3.1     40.7              a = X[i, :]*Y[:, j]`\n",
    "\n",
    "`    23     62750     251702.0      4.0     53.0              result[i, j] = a.sum()`\n"
   ]
  },
  {
   "cell_type": "code",
   "execution_count": 21,
   "metadata": {
    "code_folding": [
     0
    ]
   },
   "outputs": [
    {
     "name": "stdout",
     "output_type": "stream",
     "text": [
      "Overwriting matmult_optimized.py\n"
     ]
    }
   ],
   "source": [
    "%%file matmult_optimized.py\n",
    "\n",
    "# Program to multiply two matrices using nested loops\n",
    "import numpy as np\n",
    "\n",
    "def matmult():\n",
    "    N = 250\n",
    "\n",
    "    # NxN matrix\n",
    "    np.random.seed(0)\n",
    "    X = np.random.randint(0,100, size=(N, N))\n",
    "\n",
    "    # Nx(N+1) matrix\n",
    "    np.random.seed(0)\n",
    "    Y = np.random.randint(0,100, size=(N, N + 1))\n",
    "\n",
    "    # Nx(N+1)\n",
    "    result = np.zeros(shape=(N, N+1), dtype=\"int64\")\n",
    "\n",
    "    # iterate through rows of X\n",
    "    for i in range(X.shape[0]):\n",
    "        # iterate through columns of Y\n",
    "        for j in range(Y.shape[1]):\n",
    "            a = X[i, :]*Y[:, j]\n",
    "            result[i, j] = a.sum()\n",
    "            \n",
    "    #for r in result:\n",
    "    #print(r)\n",
    "    \n",
    "    return result"
   ]
  },
  {
   "cell_type": "code",
   "execution_count": 24,
   "metadata": {},
   "outputs": [
    {
     "name": "stdout",
     "output_type": "stream",
     "text": [
      "peak memory: 70.85 MiB, increment: 0.00 MiB\n",
      "\n",
      "\n",
      "*** Profile printout saved to text file mprof0. \n",
      "Filename: /Users/ludviglarsson/courses/uu-python-course/exercises/uu-exercise-Ludvig/day2/matmult_optimized.py\n",
      "\n",
      "Line #    Mem usage    Increment  Occurences   Line Contents\n",
      "============================================================\n",
      "     5     70.8 MiB     70.8 MiB           1   def matmult():\n",
      "     6     70.8 MiB      0.0 MiB           1       N = 250\n",
      "     7                                         \n",
      "     8                                             # NxN matrix\n",
      "     9     70.8 MiB      0.0 MiB           1       np.random.seed(0)\n",
      "    10     70.8 MiB      0.0 MiB           1       X = np.random.randint(0,100, size=(N, N))\n",
      "    11                                         \n",
      "    12                                             # Nx(N+1) matrix\n",
      "    13     70.8 MiB      0.0 MiB           1       np.random.seed(0)\n",
      "    14     70.8 MiB      0.0 MiB           1       Y = np.random.randint(0,100, size=(N, N + 1))\n",
      "    15                                         \n",
      "    16                                             # Nx(N+1)\n",
      "    17     70.8 MiB      0.0 MiB           1       result = np.zeros(shape=(N, N+1), dtype=\"int64\")\n",
      "    18                                         \n",
      "    19                                             # iterate through rows of X\n",
      "    20     70.8 MiB      0.0 MiB         251       for i in range(X.shape[0]):\n",
      "    21                                                 # iterate through columns of Y\n",
      "    22     70.8 MiB      0.0 MiB       63000           for j in range(Y.shape[1]):\n",
      "    23     70.8 MiB      0.0 MiB       62750               a = X[i, :]*Y[:, j]\n",
      "    24     70.8 MiB      0.0 MiB       62750               result[i, j] = a.sum()\n",
      "    25                                                     \n",
      "    26                                             #for r in result:\n",
      "    27                                             #print(r)\n",
      "    28                                             \n",
      "    29     70.8 MiB      0.0 MiB           1       return result\n"
     ]
    }
   ],
   "source": [
    "from matmult_optimized import matmult\n",
    "%memit matmult()\n",
    "%mprun -T mprof0 -f matmult matmult()\n",
    "print(open('mprof0', 'r').read())"
   ]
  },
  {
   "cell_type": "markdown",
   "metadata": {},
   "source": [
    "We can also check if our matrix multiplication method generates the same result as `np.matmul`."
   ]
  },
  {
   "cell_type": "code",
   "execution_count": 18,
   "metadata": {},
   "outputs": [
    {
     "data": {
      "text/plain": [
       "True"
      ]
     },
     "execution_count": 18,
     "metadata": {},
     "output_type": "execute_result"
    }
   ],
   "source": [
    "N = 250\n",
    "\n",
    "# NxN matrix\n",
    "np.random.seed(0)\n",
    "X = np.random.randint(0,100, size=(N, N))\n",
    "\n",
    "np.random.seed(0)\n",
    "Y = np.random.randint(0,100, size=(N, N + 1))\n",
    "\n",
    "# Result with numpy matmul\n",
    "A1 = np.matmul(X, Y)\n",
    "\n",
    "# Result with custom matmult\n",
    "A2 = matmult()\n",
    "\n",
    "np.array_equal(A1, A2)"
   ]
  },
  {
   "cell_type": "markdown",
   "metadata": {},
   "source": [
    "### Answer to exercise 3.c\n",
    "\n",
    "The best performance at N=250 was: \n",
    "\n",
    "* CPU times: user 312 ms, sys: 3.2 ms, total: 315 ms\n",
    "\n",
    "* Wall time: 315 ms\n",
    "\n",
    "* peak memory: 70.85 MiB, increment: 0.00 MiB"
   ]
  }
 ],
 "metadata": {
  "kernelspec": {
   "display_name": "Python 3",
   "language": "python",
   "name": "python3"
  },
  "language_info": {
   "codemirror_mode": {
    "name": "ipython",
    "version": 3
   },
   "file_extension": ".py",
   "mimetype": "text/x-python",
   "name": "python",
   "nbconvert_exporter": "python",
   "pygments_lexer": "ipython3",
   "version": "3.8.3"
  },
  "toc": {
   "nav_menu": {},
   "number_sections": true,
   "sideBar": true,
   "skip_h1_title": true,
   "toc_cell": false,
   "toc_position": {},
   "toc_section_display": "block",
   "toc_window_display": false
  }
 },
 "nbformat": 4,
 "nbformat_minor": 4
}
