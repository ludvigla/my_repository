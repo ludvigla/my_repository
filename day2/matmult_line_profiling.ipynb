{
 "cells": [
  {
   "cell_type": "code",
   "execution_count": 1,
   "metadata": {},
   "outputs": [],
   "source": [
    "%load_ext line_profiler\n",
    "%load_ext memory_profiler"
   ]
  },
  {
   "cell_type": "markdown",
   "metadata": {},
   "source": [
    "# Day 2\n",
    "\n",
    "## Exercise 3.a\n",
    "\n",
    "To run line profiler on our code, we can define the script as a function and then run %lprun to see how much time is spent execting each line."
   ]
  },
  {
   "cell_type": "code",
   "execution_count": 19,
   "metadata": {
    "code_folding": [
     0
    ]
   },
   "outputs": [],
   "source": [
    "# Program to multiply two matrices using nested loops\n",
    "import random\n",
    "\n",
    "def matmult():\n",
    "    N = 250\n",
    "\n",
    "    # NxN matrix\n",
    "    X = []\n",
    "    for i in range(N):\n",
    "        X.append([random.randint(0,100) for r in range(N)])\n",
    "\n",
    "    # Nx(N+1) matrix\n",
    "    Y = []\n",
    "    for i in range(N):\n",
    "        Y.append([random.randint(0,100) for r in range(N+1)])\n",
    "\n",
    "    # result is Nx(N+1)\n",
    "    result = []\n",
    "    for i in range(N):\n",
    "        result.append([0] * (N+1))\n",
    "\n",
    "    # iterate through rows of X\n",
    "    for i in range(len(X)):\n",
    "        # iterate through columns of Y\n",
    "        for j in range(len(Y[0])):\n",
    "            # iterate through rows of Y\n",
    "            for k in range(len(Y)):\n",
    "                result[i][j] += X[i][k] * Y[k][j]\n",
    "\n",
    "    #for r in result:\n",
    "    #    print(r)"
   ]
  },
  {
   "cell_type": "markdown",
   "metadata": {},
   "source": [
    "Now let's run `lprun` to check the stats."
   ]
  },
  {
   "cell_type": "code",
   "execution_count": 20,
   "metadata": {},
   "outputs": [
    {
     "name": "stdout",
     "output_type": "stream",
     "text": [
      "\n",
      "*** Profile printout saved to text file 'mprof0'. \n",
      "Timer unit: 1e-06 s\n",
      "\n",
      "Total time: 22.3254 s\n",
      "File: <ipython-input-19-bf771f301bd1>\n",
      "Function: matmult at line 4\n",
      "\n",
      "Line #      Hits         Time  Per Hit   % Time  Line Contents\n",
      "==============================================================\n",
      "     4                                           def matmult():\n",
      "     5         1          2.0      2.0      0.0      N = 250\n",
      "     6                                           \n",
      "     7                                               # NxN matrix\n",
      "     8         1          1.0      1.0      0.0      X = []\n",
      "     9       251        232.0      0.9      0.0      for i in range(N):\n",
      "    10       250     208846.0    835.4      0.9          X.append([random.randint(0,100) for r in range(N)])\n",
      "    11                                           \n",
      "    12                                               # Nx(N+1) matrix\n",
      "    13         1          1.0      1.0      0.0      Y = []\n",
      "    14       251        156.0      0.6      0.0      for i in range(N):\n",
      "    15       250     178409.0    713.6      0.8          Y.append([random.randint(0,100) for r in range(N+1)])\n",
      "    16                                           \n",
      "    17                                               # result is Nx(N+1)\n",
      "    18         1          1.0      1.0      0.0      result = []\n",
      "    19       251        107.0      0.4      0.0      for i in range(N):\n",
      "    20       250       1108.0      4.4      0.0          result.append([0] * (N+1))\n",
      "    21                                           \n",
      "    22                                               # iterate through rows of X\n",
      "    23       251        177.0      0.7      0.0      for i in range(len(X)):\n",
      "    24                                                   # iterate through columns of Y\n",
      "    25     63000      31813.0      0.5      0.1          for j in range(len(Y[0])):\n",
      "    26                                                       # iterate through rows of Y\n",
      "    27  15750250    7915374.0      0.5     35.5              for k in range(len(Y)):\n",
      "    28  15687500   13989143.0      0.9     62.7                  result[i][j] += X[i][k] * Y[k][j]\n"
     ]
    }
   ],
   "source": [
    "%lprun -T mprof0 -f matmult matmult()\n",
    "print(open('mprof0', 'r').read())"
   ]
  },
  {
   "cell_type": "markdown",
   "metadata": {},
   "source": [
    "In the output table, we can see that most of the time is spent on executing lines 27-28:\n",
    "\n",
    "`Line #      Hits         Time  Per Hit   % Time  Line Contents\n",
    "==============================================================`\n",
    "\n",
    "`15750250    8709942.0      0.6     35.0              for k in range(len(Y)):`\n",
    "\n",
    "`15687500   15686312.0      1.0     63.1                  result[i][j] += X[i][k] * Y[k]`"
   ]
  },
  {
   "cell_type": "markdown",
   "metadata": {},
   "source": [
    "Now let's look at memory usage with memory profiler"
   ]
  },
  {
   "cell_type": "code",
   "execution_count": 14,
   "metadata": {},
   "outputs": [
    {
     "name": "stdout",
     "output_type": "stream",
     "text": [
      "peak memory: 54.51 MiB, increment: 0.87 MiB\n"
     ]
    }
   ],
   "source": [
    "%memit test_matmult()"
   ]
  },
  {
   "cell_type": "markdown",
   "metadata": {},
   "source": [
    "We can also go line-by-line using `%mprun`, but this actually took so long time to run so I've skipped it. Maybe this has to do with the nested for loops? :-/"
   ]
  },
  {
   "cell_type": "markdown",
   "metadata": {},
   "source": [
    "### Answer to exercise 3.a\n",
    "\n",
    "The lines of code using the most time were 27-28, the innermost for loop. As for memory, the `result` variable is initiated before the nested for loop, so the for loop in itself shpuld not be using that mush memory. The majority of memory is used when the function is initiated."
   ]
  },
  {
   "cell_type": "markdown",
   "metadata": {},
   "source": [
    "## Exercise 3.c\n",
    "\n",
    "Now let's try to optimize the code. Instead of using the default python lists, we can define the matrices as numpy arrays instead. \n",
    "\n",
    "If we use `np.random.randint` we can set the shape of the array directly, so we don't have to make a for loop. (I have added a random seed before initiating the randomized matrices X and Y to be able to compare the results with the matmult function from numpy)\n",
    "\n",
    "In the for loop, we iterate through rows of `X` and columns of `Y`. In the original code, used another for loop to calculate the product of `X[i][k]` and `Y[k][j]`. Instead, we can use vector multiplication to get the product of `X[i]*Y[i]` and sum all elements of the product vector. Is cheating? :-/"
   ]
  },
  {
   "cell_type": "code",
   "execution_count": 15,
   "metadata": {
    "code_folding": [
     0
    ]
   },
   "outputs": [],
   "source": [
    "# Program to multiply two matrices using nested loops\n",
    "import numpy as np\n",
    "\n",
    "def matmult():\n",
    "    N = 250\n",
    "\n",
    "    # NxN matrix\n",
    "    np.random.seed(0)\n",
    "    X = np.random.randint(0,100, size=(N, N))\n",
    "\n",
    "    # Nx(N+1) matrix\n",
    "    np.random.seed(0)\n",
    "    Y = np.random.randint(0,100, size=(N, N + 1))\n",
    "\n",
    "    # Nx(N+1)\n",
    "    result = np.zeros(shape=(N, N+1), dtype=\"int64\")\n",
    "\n",
    "    # iterate through rows of X\n",
    "    for i in range(X.shape[0]):\n",
    "        # iterate through columns of Y\n",
    "        for j in range(Y.shape[1]):\n",
    "            a = X[i, :]*Y[:, j]\n",
    "            result[i, j] = a.sum()\n",
    "            \n",
    "    #for r in result:\n",
    "    #print(r)\n",
    "    \n",
    "    return result"
   ]
  },
  {
   "cell_type": "markdown",
   "metadata": {},
   "source": [
    "Again, let's run line profiler on the code."
   ]
  },
  {
   "cell_type": "code",
   "execution_count": 27,
   "metadata": {
    "scrolled": false
   },
   "outputs": [
    {
     "name": "stdout",
     "output_type": "stream",
     "text": [
      "CPU times: user 312 ms, sys: 3.2 ms, total: 315 ms\n",
      "Wall time: 315 ms\n",
      "\n",
      "*** Profile printout saved to text file 'mprof0'. \n",
      "Timer unit: 1e-06 s\n",
      "\n",
      "Total time: 0.453911 s\n",
      "File: /Users/ludviglarsson/courses/uu-python-course/exercises/uu-exercise-Ludvig/day2/matmult_optimized.py\n",
      "Function: matmult at line 5\n",
      "\n",
      "Line #      Hits         Time  Per Hit   % Time  Line Contents\n",
      "==============================================================\n",
      "     5                                           def matmult():\n",
      "     6         1          1.0      1.0      0.0      N = 250\n",
      "     7                                           \n",
      "     8                                               # NxN matrix\n",
      "     9         1         10.0     10.0      0.0      np.random.seed(0)\n",
      "    10         1        502.0    502.0      0.1      X = np.random.randint(0,100, size=(N, N))\n",
      "    11                                           \n",
      "    12                                               # Nx(N+1) matrix\n",
      "    13         1          5.0      5.0      0.0      np.random.seed(0)\n",
      "    14         1        494.0    494.0      0.1      Y = np.random.randint(0,100, size=(N, N + 1))\n",
      "    15                                           \n",
      "    16                                               # Nx(N+1)\n",
      "    17         1         19.0     19.0      0.0      result = np.zeros(shape=(N, N+1), dtype=\"int64\")\n",
      "    18                                           \n",
      "    19                                               # iterate through rows of X\n",
      "    20       251         88.0      0.4      0.0      for i in range(X.shape[0]):\n",
      "    21                                                   # iterate through columns of Y\n",
      "    22     63000      25423.0      0.4      5.6          for j in range(Y.shape[1]):\n",
      "    23     62750     184584.0      2.9     40.7              a = X[i, :]*Y[:, j]\n",
      "    24     62750     242785.0      3.9     53.5              result[i, j] = a.sum()\n",
      "    25                                                       \n",
      "    26                                               #for r in result:\n",
      "    27                                               #print(r)\n",
      "    28                                               \n",
      "    29         1          0.0      0.0      0.0      return result\n"
     ]
    }
   ],
   "source": [
    "%time matmult()\n",
    "%lprun -T mprof0 -f matmult matmult()\n",
    "print(open('mprof0', 'r').read())"
   ]
  },
  {
   "cell_type": "markdown",
   "metadata": {},
   "source": [
    "Now we can see that our new code made a significant improvement to the computation time.\n",
    "\n",
    "`Line #      Hits         Time  Per Hit   % Time  Line Contents\n",
    "==============================================================`\n",
    "\n",
    "`    22     62750     193281.0      3.1     40.7              a = X[i, :]*Y[:, j]`\n",
    "\n",
    "`    23     62750     251702.0      4.0     53.0              result[i, j] = a.sum()`\n"
   ]
  },
  {
   "cell_type": "code",
   "execution_count": 21,
   "metadata": {
    "code_folding": [
     0
    ]
   },
   "outputs": [
    {
     "name": "stdout",
     "output_type": "stream",
     "text": [
      "Overwriting matmult_optimized.py\n"
     ]
    }
   ],
   "source": [
    "%%file matmult_optimized.py\n",
    "\n",
    "# Program to multiply two matrices using nested loops\n",
    "import numpy as np\n",
    "\n",
    "def matmult():\n",
    "    N = 250\n",
    "\n",
    "    # NxN matrix\n",
    "    np.random.seed(0)\n",
    "    X = np.random.randint(0,100, size=(N, N))\n",
    "\n",
    "    # Nx(N+1) matrix\n",
    "    np.random.seed(0)\n",
    "    Y = np.random.randint(0,100, size=(N, N + 1))\n",
    "\n",
    "    # Nx(N+1)\n",
    "    result = np.zeros(shape=(N, N+1), dtype=\"int64\")\n",
    "\n",
    "    # iterate through rows of X\n",
    "    for i in range(X.shape[0]):\n",
    "        # iterate through columns of Y\n",
    "        for j in range(Y.shape[1]):\n",
    "            a = X[i, :]*Y[:, j]\n",
    "            result[i, j] = a.sum()\n",
    "            \n",
    "    #for r in result:\n",
    "    #print(r)\n",
    "    \n",
    "    return result"
   ]
  },
  {
   "cell_type": "code",
   "execution_count": 24,
   "metadata": {},
   "outputs": [
    {
     "name": "stdout",
     "output_type": "stream",
     "text": [
      "peak memory: 70.85 MiB, increment: 0.00 MiB\n",
      "\n",
      "\n",
      "*** Profile printout saved to text file mprof0. \n",
      "Filename: /Users/ludviglarsson/courses/uu-python-course/exercises/uu-exercise-Ludvig/day2/matmult_optimized.py\n",
      "\n",
      "Line #    Mem usage    Increment  Occurences   Line Contents\n",
      "============================================================\n",
      "     5     70.8 MiB     70.8 MiB           1   def matmult():\n",
      "     6     70.8 MiB      0.0 MiB           1       N = 250\n",
      "     7                                         \n",
      "     8                                             # NxN matrix\n",
      "     9     70.8 MiB      0.0 MiB           1       np.random.seed(0)\n",
      "    10     70.8 MiB      0.0 MiB           1       X = np.random.randint(0,100, size=(N, N))\n",
      "    11                                         \n",
      "    12                                             # Nx(N+1) matrix\n",
      "    13     70.8 MiB      0.0 MiB           1       np.random.seed(0)\n",
      "    14     70.8 MiB      0.0 MiB           1       Y = np.random.randint(0,100, size=(N, N + 1))\n",
      "    15                                         \n",
      "    16                                             # Nx(N+1)\n",
      "    17     70.8 MiB      0.0 MiB           1       result = np.zeros(shape=(N, N+1), dtype=\"int64\")\n",
      "    18                                         \n",
      "    19                                             # iterate through rows of X\n",
      "    20     70.8 MiB      0.0 MiB         251       for i in range(X.shape[0]):\n",
      "    21                                                 # iterate through columns of Y\n",
      "    22     70.8 MiB      0.0 MiB       63000           for j in range(Y.shape[1]):\n",
      "    23     70.8 MiB      0.0 MiB       62750               a = X[i, :]*Y[:, j]\n",
      "    24     70.8 MiB      0.0 MiB       62750               result[i, j] = a.sum()\n",
      "    25                                                     \n",
      "    26                                             #for r in result:\n",
      "    27                                             #print(r)\n",
      "    28                                             \n",
      "    29     70.8 MiB      0.0 MiB           1       return result\n"
     ]
    }
   ],
   "source": [
    "from matmult_optimized import matmult\n",
    "%memit matmult()\n",
    "%mprun -T mprof0 -f matmult matmult()\n",
    "print(open('mprof0', 'r').read())"
   ]
  },
  {
   "cell_type": "markdown",
   "metadata": {},
   "source": [
    "We can also check if our matrix multiplication method generates the same result as `np.matmul`."
   ]
  },
  {
   "cell_type": "code",
   "execution_count": 18,
   "metadata": {},
   "outputs": [
    {
     "data": {
      "text/plain": [
       "True"
      ]
     },
     "execution_count": 18,
     "metadata": {},
     "output_type": "execute_result"
    }
   ],
   "source": [
    "N = 250\n",
    "\n",
    "# NxN matrix\n",
    "np.random.seed(0)\n",
    "X = np.random.randint(0,100, size=(N, N))\n",
    "\n",
    "np.random.seed(0)\n",
    "Y = np.random.randint(0,100, size=(N, N + 1))\n",
    "\n",
    "# Result with numpy matmul\n",
    "A1 = np.matmul(X, Y)\n",
    "\n",
    "# Result with custom matmult\n",
    "A2 = matmult()\n",
    "\n",
    "np.array_equal(A1, A2)"
   ]
  },
  {
   "cell_type": "markdown",
   "metadata": {},
   "source": [
    "### Answer to exercise 3.c\n",
    "\n",
    "The best performance at N=250 was: \n",
    "\n",
    "* CPU times: user 312 ms, sys: 3.2 ms, total: 315 ms\n",
    "\n",
    "* Wall time: 315 ms\n",
    "\n",
    "* peak memory: 70.85 MiB, increment: 0.00 MiB"
   ]
  }
 ],
 "metadata": {
  "kernelspec": {
   "display_name": "Python 3",
   "language": "python",
   "name": "python3"
  },
  "language_info": {
   "codemirror_mode": {
    "name": "ipython",
    "version": 3
   },
   "file_extension": ".py",
   "mimetype": "text/x-python",
   "name": "python",
   "nbconvert_exporter": "python",
   "pygments_lexer": "ipython3",
   "version": "3.8.3"
  },
  "toc": {
   "nav_menu": {},
   "number_sections": true,
   "sideBar": true,
   "skip_h1_title": true,
   "toc_cell": false,
   "toc_position": {},
   "toc_section_display": "block",
   "toc_window_display": false
  }
 },
 "nbformat": 4,
 "nbformat_minor": 4
}
