{
 "cells": [
  {
   "cell_type": "markdown",
   "metadata": {},
   "source": [
    "# Day 3\n",
    "\n",
    "## Advanced exercises\n",
    "a. Given a list of XYZ-coordinates, p,\n",
    "\n",
    "`[[1.0, 2.0, 10],\n",
    " [3.0, 4.0, 20],\n",
    " [5.0, 6.0, 30],\n",
    " [7.0, 8.0, 40]]`\n",
    " \n",
    " Normalise each coordinate by dividing with its Z (3rd) element. For example, the first row becomes:\n",
    "\n",
    "`[1/10, 2/10, 10/10]` Hint: extract the last column into a variable z, and then change its dimensions so that p / z works."
   ]
  },
  {
   "cell_type": "code",
   "execution_count": 7,
   "metadata": {},
   "outputs": [
    {
     "data": {
      "text/plain": [
       "array([[0.1       , 0.2       , 1.        ],\n",
       "       [0.15      , 0.2       , 1.        ],\n",
       "       [0.16666667, 0.2       , 1.        ],\n",
       "       [0.175     , 0.2       , 1.        ]])"
      ]
     },
     "execution_count": 7,
     "metadata": {},
     "output_type": "execute_result"
    }
   ],
   "source": [
    "import numpy as np\n",
    "\n",
    "A = np.array([[1.0, 2.0, 10],\n",
    "              [3.0, 4.0, 20],\n",
    "              [5.0, 6.0, 30],\n",
    "              [7.0, 8.0, 40]])\n",
    "\n",
    "def div_by_3rd(x):\n",
    "    y = x/x[2]\n",
    "    return y\n",
    "    \n",
    "np.apply_along_axis(div_by_3rd, 1, A)"
   ]
  },
  {
   "cell_type": "markdown",
   "metadata": {},
   "source": [
    "b. Create a 3x3 ndarray. Use fancy indexing to slice out the diagonal elements."
   ]
  },
  {
   "cell_type": "code",
   "execution_count": 15,
   "metadata": {},
   "outputs": [
    {
     "name": "stdout",
     "output_type": "stream",
     "text": [
      "[[9 2 2]\n",
      " [1 0 2]\n",
      " [1 3 2]]\n"
     ]
    },
    {
     "data": {
      "text/plain": [
       "[9, 0, 2]"
      ]
     },
     "execution_count": 15,
     "metadata": {},
     "output_type": "execute_result"
    }
   ],
   "source": [
    "B = np.random.randint(0, 10, 9).reshape(3, 3)\n",
    "print(B)\n",
    "[B[0, 0], B[1, 1], B[2, 2]]"
   ]
  },
  {
   "cell_type": "markdown",
   "metadata": {},
   "source": [
    "c. Generate a 10 x 3 array of random numbers (all between 0 and 1). From each row, pick the number closest to 0.75. Make use of np.abs and np.argmax to find the column j which contains the closest element in each row."
   ]
  },
  {
   "cell_type": "code",
   "execution_count": 30,
   "metadata": {},
   "outputs": [
    {
     "name": "stdout",
     "output_type": "stream",
     "text": [
      "[[0.11907316 0.73383442 0.67982993]\n",
      " [0.27347034 0.89939427 0.72442437]\n",
      " [0.96085866 0.79424555 0.90584779]\n",
      " [0.17772389 0.53235227 0.61254281]\n",
      " [0.75601817 0.12856719 0.99790163]\n",
      " [0.17754103 0.71669792 0.21481004]\n",
      " [0.98703608 0.9038795  0.81472912]\n",
      " [0.7655972  0.33364872 0.04442053]\n",
      " [0.08576186 0.47668438 0.50652058]\n",
      " [0.75564014 0.19798743 0.9878139 ]]\n"
     ]
    },
    {
     "data": {
      "text/plain": [
       "array([0.73383442, 0.72442437, 0.79424555, 0.61254281, 0.75601817,\n",
       "       0.71669792, 0.81472912, 0.7655972 , 0.50652058, 0.75564014])"
      ]
     },
     "execution_count": 30,
     "metadata": {},
     "output_type": "execute_result"
    }
   ],
   "source": [
    "C = np.random.uniform(0, 1, 30).reshape(10, 3)\n",
    "\n",
    "def pick_val(x):\n",
    "    absdiff = np.abs(x - 0.75) \n",
    "    ind = np.argmin(absdiff)\n",
    "    return x[ind]\n",
    "\n",
    "print(C)\n",
    "np.apply_along_axis(pick_val, 1, C)"
   ]
  },
  {
   "cell_type": "markdown",
   "metadata": {},
   "source": [
    "d. Predict and verify the shape of the following slicing operation.\n",
    "\n",
    "`x = np.empty((10, 8, 6))`\n",
    "\n",
    "`idx0 = np.zeros((3, 8)).astype(int)\n",
    "idx1 = np.zeros((3, 1)).astype(int)\n",
    "idx2 = np.zeros((1, 1)).astype(int)`\n",
    "\n",
    "`x[idx0, idx1, idx2]`"
   ]
  },
  {
   "cell_type": "code",
   "execution_count": 109,
   "metadata": {},
   "outputs": [
    {
     "name": "stdout",
     "output_type": "stream",
     "text": [
      "(3, 8)\n",
      "(3, 1)\n",
      "(1, 1)\n"
     ]
    },
    {
     "data": {
      "text/plain": [
       "array([[[ 0,  1,  2],\n",
       "        [ 3,  4,  5],\n",
       "        [ 6,  7,  8]],\n",
       "\n",
       "       [[ 9, 10, 11],\n",
       "        [12, 13, 14],\n",
       "        [15, 16, 17]],\n",
       "\n",
       "       [[18, 19, 20],\n",
       "        [21, 22, 23],\n",
       "        [24, 25, 26]]])"
      ]
     },
     "execution_count": 109,
     "metadata": {},
     "output_type": "execute_result"
    }
   ],
   "source": [
    "x = np.empty((10, 8, 6))\n",
    "\n",
    "idx0 = np.zeros((3, 8)).astype(int)\n",
    "idx1 = np.zeros((3, 1)).astype(int)\n",
    "idx2 = np.zeros((1, 1)).astype(int)\n",
    "\n",
    "x[idx0, idx1, idx2]\n",
    "\n",
    "print(idx0.shape)\n",
    "print(idx1.shape)\n",
    "print(idx2.shape)\n",
    "\n",
    "y = np.arange(0, 27).reshape(3, 3, 3)\n",
    "y\n",
    "#y[idx0, idx1, idx2]"
   ]
  }
 ],
 "metadata": {
  "kernelspec": {
   "display_name": "Python 3",
   "language": "python",
   "name": "python3"
  },
  "language_info": {
   "codemirror_mode": {
    "name": "ipython",
    "version": 3
   },
   "file_extension": ".py",
   "mimetype": "text/x-python",
   "name": "python",
   "nbconvert_exporter": "python",
   "pygments_lexer": "ipython3",
   "version": "3.8.3"
  },
  "toc": {
   "nav_menu": {},
   "number_sections": true,
   "sideBar": true,
   "skip_h1_title": true,
   "toc_cell": false,
   "toc_position": {},
   "toc_section_display": "block",
   "toc_window_display": false
  }
 },
 "nbformat": 4,
 "nbformat_minor": 4
}
